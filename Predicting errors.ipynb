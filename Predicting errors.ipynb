{
 "cells": [
  {
   "cell_type": "code",
   "execution_count": 2,
   "metadata": {
    "collapsed": false
   },
   "outputs": [
    {
     "name": "stderr",
     "output_type": "stream",
     "text": [
      "/usr/local/lib/python2.7/site-packages/matplotlib/font_manager.py:273: UserWarning: Matplotlib is building the font cache using fc-list. This may take a moment.\n",
      "  warnings.warn('Matplotlib is building the font cache using fc-list. This may take a moment.')\n"
     ]
    }
   ],
   "source": [
    "import numpy as np\n",
    "import pandas as pd\n",
    "%matplotlib inline\n",
    "from matplotlib import pyplot as plt\n",
    "import datetime\n",
    "import csv\n",
    "import time"
   ]
  },
  {
   "cell_type": "markdown",
   "metadata": {},
   "source": [
    "# Preparation"
   ]
  },
  {
   "cell_type": "markdown",
   "metadata": {},
   "source": [
    "The concept in this part is to find the anomalies and then use the chrono of events to find the dates of anomalies. first we import the anomaly file"
   ]
  },
  {
   "cell_type": "code",
   "execution_count": 3,
   "metadata": {
    "collapsed": false
   },
   "outputs": [
    {
     "name": "stdout",
     "output_type": "stream",
     "text": [
      "<class 'pandas.core.frame.DataFrame'>\n",
      "RangeIndex: 1164346 entries, 0 to 1164345\n",
      "Data columns (total 33 columns):\n",
      "USINE               1164346 non-null object\n",
      "ID_VEH              1164346 non-null int64\n",
      "FAMILLE_VEH         1164346 non-null object\n",
      "ID_CLE_QUA          1164346 non-null object\n",
      "CODE_CIRC_ANO       1164346 non-null object\n",
      "LIB_CIRC_ANO        1164346 non-null object\n",
      "CODE_LOC_ANO        1164346 non-null object\n",
      "LIB_LOC_ANO         1164346 non-null object\n",
      "CODE_NAT_ANO        1164346 non-null int64\n",
      "LIB_NAT_ANO         1164346 non-null object\n",
      "CODE_FAM_NAT_ANO    1164346 non-null object\n",
      "LIB_FAM_NAT_ANO     1164346 non-null object\n",
      "DATE_DET_ANO        1164346 non-null object\n",
      "CODE_OPE_ANO        1164346 non-null int64\n",
      "ZONE_OPE_ANO        851221 non-null object\n",
      "TOP_UEP             1164346 non-null object\n",
      "NIV_DETECT          1164346 non-null object\n",
      "ARBO_STRUCT_MGMT    1164346 non-null object\n",
      "CODE_LOC_ANA        1164346 non-null object\n",
      "LIB_LOC_ANA         1164346 non-null object\n",
      "COD_NAT_ANA         1164346 non-null object\n",
      "LIB_NAT_ANA         1164346 non-null object\n",
      "CODE_FAM_NAT_ANA    1164346 non-null object\n",
      "LIB_FAM_NAT_ANA     1164346 non-null object\n",
      "OPE_ANA             1164346 non-null int64\n",
      "DATE_ANA            163847 non-null object\n",
      "OPE_SOLDE           1164346 non-null int64\n",
      "DATE_SOLDE          1164346 non-null object\n",
      "CODE_STAT_ANO       1164346 non-null object\n",
      "LIB_STA_DEF         1164346 non-null object\n",
      "RSP                 1164346 non-null object\n",
      "COD_MOD_ANO         1164346 non-null object\n",
      "LIB_MOD_DEF         1164346 non-null object\n",
      "dtypes: int64(5), object(28)\n",
      "memory usage: 293.1+ MB\n",
      "None\n"
     ]
    }
   ],
   "source": [
    "col_df = pd.read_csv(\"chrono_anomalies_de_fabrication_vehicule.csv\", sep=\";\")\n",
    "df = pd.read_csv(\"defauts_PY_2016.csv\", header=None, sep=';', names=col_df.columns)\n",
    "print df.info()"
   ]
  },
  {
   "cell_type": "markdown",
   "metadata": {},
   "source": [
    "This is where some of the intelligence is. The RSP column contains the UEP where the problem is supposed to have happen. However, in the event table, there is no reference to the UEP. There are only doors, where the vehicules pass. This is why I had to find, mainly by interrogating people from PSA the correspondance between UEP and so-called doors. "
   ]
  },
  {
   "cell_type": "code",
   "execution_count": 4,
   "metadata": {
    "collapsed": false
   },
   "outputs": [],
   "source": [
    "USABLE_DETAILED_UEPS = [\"MON/1/1HC/1HC1\", \"MON/1/1HC/1HC2\", \"MON/1/1HC/1HC3\", \"MON/1/1HC/1HC4\", \"MON/1/1MV/1MV1\", \"MON/1/1MV/1MV3\", \"MON/1/1MV/1MV2\", \"MON/1/1MV/1MV4\"]\n",
    "PORTE_EPS_TABLE = {\n",
    "    \"MON/1/1HC/1HC1\": [\"ENHC01\", \"BR1101\"],\n",
    "\t\"MON/1/1HC/1HC2\": [\"BR2201\", \"BR2301\"],\n",
    "\t\"MON/1/1HC/1HC3\": [\"BR2301\"],\n",
    "\t\"MON/1/1HC/1HC4\": [\"BR3401\", \"BR3501\"],\n",
    "\t\"MON/1/1MV/1MV1\": [\"EPOM01\", \"POM101\"],\n",
    "\t\"MON/1/1MV/1MV2\": [\"MV1101\", \"MV2201\"],\n",
    "\t\"MON/1/1MV/1MV3\": [\"MV2201\", \"MV2301\"],\n",
    "\t\"MON/1/1MV/1MV4\": [\"MV2401\", \"MV3501\"],\n",
    "\t\"QCP\": [\"SOMV01\", \"SACC02\"],\n",
    "\t\"PEI\": [\"DETA01\", \"SCLA02\"],\n",
    "\t\"FER\": [\"SFER01\", \"EFER02\"]\n",
    "}\n",
    "ALL_DOORS = []\n",
    "for doors in PORTE_EPS_TABLE.itervalues():\n",
    "    ALL_DOORS += doors\n"
   ]
  },
  {
   "cell_type": "markdown",
   "metadata": {},
   "source": [
    "All databases had problem with dates. Therefore there was a need for this complicated function"
   ]
  },
  {
   "cell_type": "code",
   "execution_count": 5,
   "metadata": {
    "collapsed": false
   },
   "outputs": [],
   "source": [
    "def str_to_date(date):\n",
    "    try:\n",
    "        return datetime.datetime.strptime(date[:19], '%Y-%m-%dT%H:%M:%S')\n",
    "    except:\n",
    "        try:\n",
    "            return datetime.datetime.strptime(date[:19], '%d/%m/%Y %H:%M')\n",
    "        except:\n",
    "            \n",
    "            return datetime.datetime.strptime(date[:19], '%d/%m/%Y %H:%M:%S')\n",
    "\n",
    "df[\"date_edo\"] = df[\"DATE_DET_ANO\"].map(str_to_date)"
   ]
  },
  {
   "cell_type": "markdown",
   "metadata": {},
   "source": [
    "A quick look at anomalies by month"
   ]
  },
  {
   "cell_type": "code",
   "execution_count": 6,
   "metadata": {
    "collapsed": false
   },
   "outputs": [],
   "source": [
    "def to_month(date):\n",
    "    return date.month\n",
    "df[\"month\"] = df[\"date_edo\"].map(to_month)"
   ]
  },
  {
   "cell_type": "code",
   "execution_count": 7,
   "metadata": {
    "collapsed": false
   },
   "outputs": [
    {
     "data": {
      "text/plain": [
       "6     135502\n",
       "11    111638\n",
       "3     107443\n",
       "4     105980\n",
       "2     102164\n",
       "9      98847\n",
       "5      98219\n",
       "1      96477\n",
       "12     94876\n",
       "10     77707\n",
       "7      75235\n",
       "8      60258\n",
       "Name: month, dtype: int64"
      ]
     },
     "execution_count": 7,
     "metadata": {},
     "output_type": "execute_result"
    }
   ],
   "source": [
    "df[\"month\"].value_counts()"
   ]
  },
  {
   "cell_type": "markdown",
   "metadata": {},
   "source": [
    "In the anomaly file, UEPS where very detailed. Some of them are not relevant at all, with very few anomalies. For some of them like the one of FERRAGE have no accuracy in term of doors. So I had to group them by larger UEPs, taking only the top ref. Ferrage, Peinture, and Quality are the one aggregated. For the montage, I could keep the detail."
   ]
  },
  {
   "cell_type": "code",
   "execution_count": 8,
   "metadata": {
    "collapsed": false
   },
   "outputs": [
    {
     "name": "stdout",
     "output_type": "stream",
     "text": [
      "1164346\n",
      "966496\n"
     ]
    }
   ],
   "source": [
    "def transform_UEPs(UEP):\n",
    "    splitted = UEP.split(\"/\")\n",
    "    if splitted[0] in [\"FER\", \"PEI\", \"QCP\"]:\n",
    "        return splitted[0]\n",
    "    elif UEP in USABLE_DETAILED_UEPS:\n",
    "        return UEP\n",
    "    else: \n",
    "        return \"NOT USED\"\n",
    "df[\"pb_uep\"] = df[\"RSP\"].map(transform_UEPs)\n",
    "\n",
    "full_df = df[df[\"pb_uep\"] != \"NOT USED\"]\n",
    "print len(df)\n",
    "print len(full_df)\n"
   ]
  },
  {
   "cell_type": "markdown",
   "metadata": {},
   "source": [
    "Then I build a subtable from the dataset of vehicule chronology, by taking only the occurence with a door which is concerned by our study. "
   ]
  },
  {
   "cell_type": "code",
   "execution_count": 9,
   "metadata": {
    "collapsed": false
   },
   "outputs": [
    {
     "name": "stdout",
     "output_type": "stream",
     "text": [
      "done 1000000\n",
      "done 2000000\n",
      "done 3000000\n",
      "done 4000000\n",
      "done 5000000\n",
      "done 6000000\n",
      "done 7000000\n",
      "done 8000000\n",
      "done 9000000\n"
     ]
    }
   ],
   "source": [
    "col_df = pd.read_csv(\"chrono_flux_vehicule_dans_usine.csv\", sep=\";\")\n",
    "columns = col_df.columns[:-1]\n",
    "del col_df\n",
    "full_res = {}\n",
    "nb_done = 0\n",
    "with open(\"passages_PY.csv\", mode='r') as infile:\n",
    "\n",
    "    filereader = csv.reader(infile, delimiter=\";\", )\n",
    "    for line in filereader:\n",
    "        nb_done += 1\n",
    "        if nb_done % 1000000 == 0:\n",
    "            print \"done %s\" % nb_done\n",
    "        if line[3] in ALL_DOORS:\n",
    "            res_dict = {}\n",
    "\n",
    "            for i in range(len(columns)):\n",
    "                res_dict[columns[i]] = line[i]\n",
    "            line_id = \"%s%s\" % (res_dict[\"id_veh\"], res_dict[\"porte\"])\n",
    "            full_res[line_id] = res_dict[\"date_passage\"]\n"
   ]
  },
  {
   "cell_type": "code",
   "execution_count": 10,
   "metadata": {
    "collapsed": false
   },
   "outputs": [
    {
     "name": "stderr",
     "output_type": "stream",
     "text": [
      "/usr/local/lib/python2.7/site-packages/ipykernel/__main__.py:1: SettingWithCopyWarning: \n",
      "A value is trying to be set on a copy of a slice from a DataFrame.\n",
      "Try using .loc[row_indexer,col_indexer] = value instead\n",
      "\n",
      "See the caveats in the documentation: http://pandas.pydata.org/pandas-docs/stable/indexing.html#indexing-view-versus-copy\n",
      "  if __name__ == '__main__':\n"
     ]
    }
   ],
   "source": [
    "full_df[\"index\"] = full_df.index"
   ]
  },
  {
   "cell_type": "markdown",
   "metadata": {},
   "source": [
    "This is where the join is done. For each anomaly, we look at the table we just built in order to find the real date of apparition of the anomaly. \n",
    "when we have a door in and a door out, we are able to take the mean of the two dates."
   ]
  },
  {
   "cell_type": "code",
   "execution_count": 11,
   "metadata": {
    "collapsed": false
   },
   "outputs": [
    {
     "name": "stdout",
     "output_type": "stream",
     "text": [
      "done 0\n",
      "done 100000\n",
      "done 200000\n",
      "done 400000\n",
      "done 500000\n",
      "done 600000\n",
      "done 700000\n",
      "done 800000\n",
      "done 900000\n",
      "done 1000000\n",
      "done 1100000\n"
     ]
    },
    {
     "name": "stderr",
     "output_type": "stream",
     "text": [
      "/usr/local/lib/python2.7/site-packages/ipykernel/__main__.py:21: SettingWithCopyWarning: \n",
      "A value is trying to be set on a copy of a slice from a DataFrame.\n",
      "Try using .loc[row_indexer,col_indexer] = value instead\n",
      "\n",
      "See the caveats in the documentation: http://pandas.pydata.org/pandas-docs/stable/indexing.html#indexing-view-versus-copy\n"
     ]
    }
   ],
   "source": [
    "def find_error_date(df_line):\n",
    "    doors = PORTE_EPS_TABLE[df_line[\"pb_uep\"]]\n",
    "    dates = []\n",
    "\n",
    "    if df_line[\"index\"] % 100000 == 0:\n",
    "\n",
    "        print \"done %s\" % str(df_line[\"index\"])\n",
    "    for door in doors:\n",
    "        res_id = \"%s%s\" % (df_line[\"ID_VEH\"], door)\n",
    "        if not full_res.get(res_id):\n",
    "            continue\n",
    "        dates.append(str_to_date(full_res[res_id]))\n",
    "    if len(dates) == 1:\n",
    "        return dates[0]\n",
    "    elif len(dates) == 2:\n",
    "\n",
    "        return dates[0] + (dates[1] - dates[0])/2\n",
    "    else:\n",
    "        return 'no date'\n",
    "    \n",
    "full_df[\"date_error\"] = full_df.apply(find_error_date, axis=1)"
   ]
  },
  {
   "cell_type": "markdown",
   "metadata": {},
   "source": [
    "Some of the doors could not be find. It concerns a minority. We'll just ignore this."
   ]
  },
  {
   "cell_type": "code",
   "execution_count": 12,
   "metadata": {
    "collapsed": false
   },
   "outputs": [
    {
     "name": "stderr",
     "output_type": "stream",
     "text": [
      "/usr/local/lib/python2.7/site-packages/pandas/core/series.py:2177: FutureWarning: to_datetime is deprecated. Use self.to_pydatetime()\n",
      "  new_values = map_f(values, arg)\n",
      "/usr/local/lib/python2.7/site-packages/ipykernel/__main__.py:4: SettingWithCopyWarning: \n",
      "A value is trying to be set on a copy of a slice from a DataFrame\n",
      "\n",
      "See the caveats in the documentation: http://pandas.pydata.org/pandas-docs/stable/indexing.html#indexing-view-versus-copy\n"
     ]
    }
   ],
   "source": [
    "cleaned_df = full_df[full_df[\"date_error\"] != \"no date\"]\n",
    "def transform_datetime(date):\n",
    "    return date.to_datetime()\n",
    "cleaned_df.loc[\"date_edo\"] = cleaned_df[\"date_edo\"].map(transform_datetime)\n"
   ]
  },
  {
   "cell_type": "code",
   "execution_count": 13,
   "metadata": {
    "collapsed": true
   },
   "outputs": [],
   "source": [
    "cleaned_df = cleaned_df[cleaned_df[\"pb_uep\"].notnull()]"
   ]
  },
  {
   "cell_type": "markdown",
   "metadata": {},
   "source": [
    "This diff date is really interesting for PSA. It is the amount of time between an error happens and when it is detected. I did some analysis of this which are not relevant This could be used for further data cleaning. "
   ]
  },
  {
   "cell_type": "code",
   "execution_count": 14,
   "metadata": {
    "collapsed": false
   },
   "outputs": [],
   "source": [
    "def do_diff(df_line):\n",
    "\n",
    "        return (df_line[\"date_edo\"] - df_line[\"date_error\"]).total_seconds()\n",
    "\n",
    "cleaned_df[\"diff_date\"] = cleaned_df.apply(do_diff, axis=1)"
   ]
  },
  {
   "cell_type": "code",
   "execution_count": 15,
   "metadata": {
    "collapsed": true
   },
   "outputs": [],
   "source": [
    "del full_df\n",
    "del df\n",
    "del full_res"
   ]
  },
  {
   "cell_type": "code",
   "execution_count": 16,
   "metadata": {
    "collapsed": false
   },
   "outputs": [
    {
     "name": "stdout",
     "output_type": "stream",
     "text": [
      "80295\n"
     ]
    }
   ],
   "source": [
    "uep_df = cleaned_df[cleaned_df[\"pb_uep\"] == \"MON/1/1HC/1HC2\"]\n",
    "print len(uep_df)"
   ]
  },
  {
   "cell_type": "code",
   "execution_count": 17,
   "metadata": {
    "collapsed": false
   },
   "outputs": [
    {
     "name": "stderr",
     "output_type": "stream",
     "text": [
      "/usr/local/lib/python2.7/site-packages/ipykernel/__main__.py:3: SettingWithCopyWarning: \n",
      "A value is trying to be set on a copy of a slice from a DataFrame.\n",
      "Try using .loc[row_indexer,col_indexer] = value instead\n",
      "\n",
      "See the caveats in the documentation: http://pandas.pydata.org/pandas-docs/stable/indexing.html#indexing-view-versus-copy\n",
      "  app.launch_new_instance()\n"
     ]
    }
   ],
   "source": [
    "def datetime_to_hours(date):\n",
    "    return date - datetime.timedelta(minutes=date.minute, seconds=date.second, microseconds=date.microsecond)\n",
    "uep_df[\"hour_date\"] = uep_df[\"date_error\"].map(datetime_to_hours)"
   ]
  },
  {
   "cell_type": "code",
   "execution_count": 18,
   "metadata": {
    "collapsed": false
   },
   "outputs": [
    {
     "name": "stderr",
     "output_type": "stream",
     "text": [
      "/usr/local/lib/python2.7/site-packages/ipykernel/__main__.py:8: SettingWithCopyWarning: \n",
      "A value is trying to be set on a copy of a slice from a DataFrame\n",
      "\n",
      "See the caveats in the documentation: http://pandas.pydata.org/pandas-docs/stable/indexing.html#indexing-view-versus-copy\n"
     ]
    }
   ],
   "source": [
    "grouped = uep_df[[\"hour_date\", \"pb_uep\", \"date_error\"]].groupby(\"hour_date\", axis=0)\n",
    "ts_df = pd.concat([grouped[\"pb_uep\"].count(), grouped[\"date_error\"].first()], axis=1)\n",
    "\n",
    "new_index = pd.date_range(min(ts_df.index), max(ts_df.index), freq='H')\n",
    "ts_df = ts_df.reindex(new_index, fill_value=0)\n",
    "zero_date = ts_df[\"date_error\"].value_counts().index[0]\n",
    "\n",
    "ts_df[\"date_error\"][ts_df[\"date_error\"] == zero_date] = ts_df[ts_df[\"date_error\"] == zero_date].index\n"
   ]
  },
  {
   "cell_type": "markdown",
   "metadata": {},
   "source": [
    "# LEARNING"
   ]
  },
  {
   "cell_type": "code",
   "execution_count": 19,
   "metadata": {
    "collapsed": false
   },
   "outputs": [
    {
     "name": "stdout",
     "output_type": "stream",
     "text": [
      "<class 'pandas.core.frame.DataFrame'>\n",
      "DatetimeIndex: 4935 entries, 2016-06-01 00:00:00 to 2016-12-23 14:00:00\n",
      "Freq: H\n",
      "Data columns (total 2 columns):\n",
      "pb_uep        4935 non-null int64\n",
      "date_error    4935 non-null datetime64[ns]\n",
      "dtypes: datetime64[ns](1), int64(1)\n",
      "memory usage: 115.7 KB\n",
      "None\n"
     ]
    }
   ],
   "source": [
    "from scipy import stats\n",
    "from sklearn.linear_model import BayesianRidge, LinearRegression\n",
    "from sklearn.model_selection import TimeSeriesSplit\n",
    "from sklearn.metrics import mean_squared_error\n",
    "from math import sqrt\n",
    "print ts_df.info()\n",
    "from sklearn.svm import SVR\n",
    "# remove week-ends"
   ]
  },
  {
   "cell_type": "code",
   "execution_count": 20,
   "metadata": {
    "collapsed": false
   },
   "outputs": [
    {
     "name": "stdout",
     "output_type": "stream",
     "text": [
      "4935\n",
      "4166\n",
      "23.4406104844\n"
     ]
    }
   ],
   "source": [
    "def ret_weekday(date):\n",
    "    return date.weekday()\n",
    "ts_df[\"weekday\"] = ts_df[\"date_error\"].map(ret_weekday)\n",
    "def ret_hour_of_day(date):\n",
    "    return date.hour\n",
    "ts_df[\"day_hour\"] = ts_df[\"date_error\"].map(ret_hour_of_day)\n",
    "print len(ts_df)\n",
    "small_ts_df = ts_df.drop(pd.date_range(datetime.datetime(2016, 7, 14), datetime.datetime(2016, 8, 15), freq='H'))\n",
    "print len(small_ts_df)\n",
    "small_ts_df = small_ts_df[small_ts_df[\"weekday\"].isin([0, 1, 2, 3, 4])]\n",
    "\n",
    "\n",
    "print np.mean(small_ts_df[\"pb_uep\"])"
   ]
  },
  {
   "cell_type": "code",
   "execution_count": 21,
   "metadata": {
    "collapsed": false
   },
   "outputs": [
    {
     "name": "stdout",
     "output_type": "stream",
     "text": [
      "for hour 0\n",
      "25.896\n",
      "for hour 1\n",
      "30.6984126984\n",
      "for hour 2\n",
      "31.1031746032\n",
      "for hour 3\n",
      "24.0238095238\n",
      "for hour 4\n",
      "30.4523809524\n",
      "for hour 5\n",
      "28.6746031746\n",
      "for hour 6\n",
      "27.8333333333\n",
      "for hour 7\n",
      "23.3412698413\n",
      "for hour 8\n",
      "23.6984126984\n",
      "for hour 9\n",
      "25.6746031746\n",
      "for hour 10\n",
      "23.873015873\n",
      "for hour 11\n",
      "23.4841269841\n",
      "for hour 12\n",
      "22.6507936508\n",
      "for hour 13\n",
      "22.4523809524\n",
      "for hour 14\n",
      "22.873015873\n",
      "for hour 15\n",
      "20.544\n",
      "for hour 16\n",
      "23.456\n",
      "for hour 17\n",
      "23.008\n",
      "for hour 18\n",
      "19.248\n",
      "for hour 19\n",
      "21.112\n",
      "for hour 20\n",
      "6.536\n",
      "for hour 21\n",
      "8.344\n",
      "for hour 22\n",
      "22.656\n",
      "for hour 23\n",
      "30.68\n"
     ]
    }
   ],
   "source": [
    "for hour_of_day in small_ts_df[\"day_hour\"].unique():\n",
    "    print \"for hour %s\" % hour_of_day\n",
    "    print np.mean(small_ts_df[small_ts_df[\"day_hour\"] == hour_of_day][\"pb_uep\"])"
   ]
  },
  {
   "cell_type": "markdown",
   "metadata": {},
   "source": [
    "For the learning I had to limit myself for shifts. Indeed for errors to be reported, we need to wait some time (3), so I couldn't use shorter shift to predict. I brought a shift of 8, because it corresponds to the amount of hours a worker stays on an unit. A 1 day shift is pretty classic. Finally, I added a parameter in order to be able to say if it is night or not, because I have observed that during night, the errors are higher. "
   ]
  },
  {
   "cell_type": "code",
   "execution_count": 22,
   "metadata": {
    "collapsed": false
   },
   "outputs": [
    {
     "name": "stdout",
     "output_type": "stream",
     "text": [
      "<class 'pandas.core.frame.DataFrame'>\n",
      "DatetimeIndex: 2990 entries, 2016-06-02 00:00:00 to 2016-12-23 14:00:00\n",
      "Data columns (total 8 columns):\n",
      "pb_uep        2990 non-null int64\n",
      "date_error    2990 non-null datetime64[ns]\n",
      "weekday       2990 non-null int64\n",
      "day_hour      2990 non-null int64\n",
      "shift3h       2990 non-null float64\n",
      "night         2990 non-null bool\n",
      "shift1d       2990 non-null float64\n",
      "shift7d       2990 non-null float64\n",
      "dtypes: bool(1), datetime64[ns](1), float64(3), int64(3)\n",
      "memory usage: 189.8 KB\n",
      "None\n"
     ]
    }
   ],
   "source": [
    "small_ts_df[\"shift3h\"] = small_ts_df[\"pb_uep\"].shift(3)\n",
    "small_ts_df[\"night\"] = small_ts_df[\"day_hour\"].isin(range(5) + [23])\n",
    "small_ts_df[\"shift1d\"] = small_ts_df[\"pb_uep\"].shift(24)\n",
    "small_ts_df[\"shift8h\"] = small_ts_df[\"pb_uep\"].shift(8)\n",
    "learning_df = small_ts_df[small_ts_df[\"shift1d\"].notnull()]\n",
    "print learning_df.info()\n",
    "X = learning_df[[\"shift1d\", \"shift8h\", \"shift3h\", \"night\"]].values\n",
    "Y = learning_df[\"pb_uep\"].values"
   ]
  },
  {
   "cell_type": "markdown",
   "metadata": {},
   "source": [
    "Model testing. With cross-validation specific to time series. Iterated a lot over the model or variables. Regression and bayesian regression seems to work the best. There are still some models that we could still test. "
   ]
  },
  {
   "cell_type": "code",
   "execution_count": 23,
   "metadata": {
    "collapsed": false
   },
   "outputs": [
    {
     "name": "stdout",
     "output_type": "stream",
     "text": [
      "14.7282336865\n",
      "14.7359835851\n"
     ]
    },
    {
     "name": "stderr",
     "output_type": "stream",
     "text": [
      "/usr/local/lib/python2.7/site-packages/scipy/linalg/basic.py:884: RuntimeWarning: internal gelsd driver lwork query error, required iwork dimension not returned. This is likely the result of LAPACK bug 0038, fixed in LAPACK 3.2.2 (released July 21, 2010). Falling back to 'gelss' driver.\n",
      "  warnings.warn(mesg, RuntimeWarning)\n"
     ]
    }
   ],
   "source": [
    "def test_model(X, Y, model):\n",
    "    tscv = TimeSeriesSplit(n_splits=5)\n",
    "    err = []\n",
    "    for train_index, test_index in tscv.split(X):\n",
    "        X_train, X_test = X[train_index], X[test_index]\n",
    "        y_train, y_test = Y[train_index], Y[test_index]\n",
    "        model.fit(X_train, y_train)\n",
    "        err.append(sqrt(mean_squared_error(y_test, model.predict(X_test))))\n",
    "\n",
    "        plt.show()\n",
    "    print np.mean(err)\n",
    "test_model(X, Y, LinearRegression(normalize=True))\n",
    "test_model(X, Y, BayesianRidge(normalize=True))"
   ]
  },
  {
   "cell_type": "code",
   "execution_count": 24,
   "metadata": {
    "collapsed": false
   },
   "outputs": [
    {
     "name": "stdout",
     "output_type": "stream",
     "text": [
      "17.5840582996\n",
      "15.491265582\n"
     ]
    }
   ],
   "source": [
    "test_model(X, Y, SVR(kernel='rbf', C=1e3, gamma=0.1))\n",
    "test_model(X, Y, SVR())\n"
   ]
  },
  {
   "cell_type": "code",
   "execution_count": 117,
   "metadata": {
    "collapsed": false
   },
   "outputs": [
    {
     "name": "stdout",
     "output_type": "stream",
     "text": [
      "{'past_shift': 238, 'next_shift': 150, 'predicted': [43.390493300666535, 102.43893438658446, 66.146168058345353, 21.646164531258275, 32.151470477770218, 24.442319958366035, 47.051170766997878, 33.276233762629815, 28.13650158588111, 32.641421141127054, 24.615585681238546, 18.005537337068098, 24.409293884248875, 19.307337790491815, 20.840342168091791, 16.163386880064738, 28.061571005696411, 25.588152341241177, 11.371529128070271, 17.085130959018738, 25.403214626484402, 17.562240759670562, 32.503064048617148, 60.069352130768543], 'past_values': [42, 99, 68, 21, 33, 20, 43, 35, 28, 35, 23, 19, 25, 22, 21, 14]}\n"
     ]
    }
   ],
   "source": [
    "# mock data \n",
    "import numpy\n",
    "mean = 0\n",
    "std = 2\n",
    "num_samples = 24\n",
    "samples = numpy.random.normal(mean, std, size=num_samples)\n",
    "predicted = ts_df[\"count\"][0:24].values + samples\n",
    "print {\n",
    "    \"past_values\": list(ts_df[\"count\"][0:16].values),\n",
    "    \"predicted\": list(predicted),\n",
    "    \"past_shift\": 238,\n",
    "    \"next_shift\": 150\n",
    "}\n",
    "    "
   ]
  },
  {
   "cell_type": "code",
   "execution_count": 234,
   "metadata": {
    "collapsed": false
   },
   "outputs": [
    {
     "ename": "NameError",
     "evalue": "name 'df' is not defined",
     "output_type": "error",
     "traceback": [
      "\u001b[0;31m---------------------------------------------------------------------------\u001b[0m",
      "\u001b[0;31mNameError\u001b[0m                                 Traceback (most recent call last)",
      "\u001b[0;32m<ipython-input-234-e893e393b16c>\u001b[0m in \u001b[0;36m<module>\u001b[0;34m()\u001b[0m\n\u001b[1;32m      5\u001b[0m \u001b[0msamples\u001b[0m \u001b[0;34m=\u001b[0m \u001b[0mnumpy\u001b[0m\u001b[0;34m.\u001b[0m\u001b[0mrandom\u001b[0m\u001b[0;34m.\u001b[0m\u001b[0mnormal\u001b[0m\u001b[0;34m(\u001b[0m\u001b[0mmean\u001b[0m\u001b[0;34m,\u001b[0m \u001b[0mstd\u001b[0m\u001b[0;34m,\u001b[0m \u001b[0msize\u001b[0m\u001b[0;34m=\u001b[0m\u001b[0mnum_samples\u001b[0m\u001b[0;34m)\u001b[0m\u001b[0;34m\u001b[0m\u001b[0m\n\u001b[1;32m      6\u001b[0m \u001b[0;34m\u001b[0m\u001b[0m\n\u001b[0;32m----> 7\u001b[0;31m \u001b[0mdf\u001b[0m\u001b[0;34m.\u001b[0m\u001b[0mdrop\u001b[0m\u001b[0;34m(\u001b[0m\u001b[0;34m)\u001b[0m\u001b[0;34m\u001b[0m\u001b[0m\n\u001b[0m",
      "\u001b[0;31mNameError\u001b[0m: name 'df' is not defined"
     ]
    }
   ],
   "source": [
    "import numpy\n",
    "mean = 0\n",
    "std = 2\n",
    "num_samples = 24\n",
    "samples = numpy.random.normal(mean, std, size=num_samples)\n",
    "\n",
    "df.drop()"
   ]
  },
  {
   "cell_type": "code",
   "execution_count": 64,
   "metadata": {
    "collapsed": true
   },
   "outputs": [],
   "source": [
    "user = \"pugetp@gmail.com\"\n",
    "password= \"Tifous1989\""
   ]
  },
  {
   "cell_type": "code",
   "execution_count": 109,
   "metadata": {
    "collapsed": false
   },
   "outputs": [
    {
     "name": "stdout",
     "output_type": "stream",
     "text": [
      "<Response [200]>\n"
     ]
    }
   ],
   "source": [
    "from requests.auth import HTTPBasicAuth\n",
    "url=\"https://psa.opendatasoft.com/api/records/1.0/search/?dataset=chrono_flux_vehicule_dans_usine&rows=1000&q=column_2%3D5126792&sort=column_7&facet=journee_prod&facet=porte&facet=column_7&facet=column_2&facet=column_5\"\n",
    "rep = requests.get(url, auth=HTTPBasicAuth(user, password))\n",
    "print rep\n"
   ]
  },
  {
   "cell_type": "code",
   "execution_count": 58,
   "metadata": {
    "collapsed": false
   },
   "outputs": [
    {
     "data": {
      "text/plain": [
       "'http://psa.opendatasoft.com/api/records/1.0/search/?apikey=3b74cc5d9284b4f2e2dae0dddcc2d9e00c6333b5d941f1037aacf326?dataset=chrono_flux_vehicule_dans_usine&facet=journee_prod&facet=porte&facet=column_7'"
      ]
     },
     "execution_count": 58,
     "metadata": {},
     "output_type": "execute_result"
    }
   ],
   "source": [
    "\"http://psa.opendatasoft.com/api/records/1.0/search/?apikey=%s?dataset=chrono_flux_vehicule_dans_usine&facet=journee_prod&facet=porte&facet=column_7\" % api_key"
   ]
  },
  {
   "cell_type": "code",
   "execution_count": 176,
   "metadata": {
    "collapsed": false
   },
   "outputs": [
    {
     "data": {
      "text/plain": [
       "MON/1/1HC/1HC2        82312\n",
       "MON/1/1MV/1MV4        51368\n",
       "MON/1/1HC/1HC4        49958\n",
       "MON/1/1HC/1HC3        46412\n",
       "MON/1/1MV/1GAV        45604\n",
       "MON/1/1HC/1HC1        40751\n",
       "MON/1/1MV/1MV2        38590\n",
       "MON/1/1MV/1MV1        37010\n",
       "FER                   32749\n",
       "MON/1/1MV/1MV3        30665\n",
       "MON/1/1MV/1MEC        30180\n",
       "QCP/QUA/CRAC/LAC      28047\n",
       "FER/GRXX/GR40/MLF1    18913\n",
       "FER/GRXX/GR40/MEF1    15942\n",
       "PEI/-/ASP/LAQ         13624\n",
       "FER/GRXX/GR40/MEF2    10161\n",
       "MON/1/1HC/1POR         9162\n",
       "FER/GRXX/GR30/ARM      7593\n",
       "QCP/QUA/CRAC/BAEB      6748\n",
       "MON/1/1HC/1KIT         5885\n",
       "QCP/QUA/CRAC/CVM       5712\n",
       "CPL                    5134\n",
       "EMB                    4277\n",
       "QCP/QUA/AVCF/AVCF      4254\n",
       "QCP/QUA/CRAC/LOCA      3951\n",
       "MON/-/MAI              2721\n",
       "FER/GRXX/GR20          2606\n",
       "QFE                    2516\n",
       "QCP/QUA/BTU/BU         2509\n",
       "PEI/-/FOND/CATA        2122\n",
       "                      ...  \n",
       "PEI/-/ASP               324\n",
       "FER/GRXX/GR46/OUA9      294\n",
       "PEI/-/ASP/LM            284\n",
       "PEI/-/ASP/BIMA          258\n",
       "PEI/-/ASP/BIFI          155\n",
       "QCP/QUA/ING              78\n",
       "MON/1/1MV                58\n",
       "FER/GRXX/GR40/MLF2       25\n",
       "PEI/-/FOND               24\n",
       "ATI/ONL                  21\n",
       "CPL/FLV/FLV              18\n",
       "QCP/QUA/AVCF             17\n",
       "MON/1/-                  17\n",
       "MON/1                    13\n",
       "MON/2/2HC/2HC2           13\n",
       "ATI/CMON                 12\n",
       "MON/2/2HC/2HC1           11\n",
       "CPL/LOGE/AFM             10\n",
       "MON/2/2HC/2HC3            4\n",
       "DIPA/DQU                  4\n",
       "MON/2/2HC                 3\n",
       "CPL/LOGE/AFM/AFM          3\n",
       "FER/GRXX/GR40             3\n",
       "PEI/-/GST/QREA            3\n",
       "DIPA/ATP                  2\n",
       "MON/1/1MV/1P1             2\n",
       "QFG                       2\n",
       "QCP/QUA/CRAC/PEI          1\n",
       "FER/GRXX/GR50/REAC        1\n",
       "MON/1/1HC/CYCL            1\n",
       "Name: RSP, dtype: int64"
      ]
     },
     "execution_count": 176,
     "metadata": {},
     "output_type": "execute_result"
    }
   ],
   "source": [
    "df[\"RSP\"].value_counts()"
   ]
  },
  {
   "cell_type": "code",
   "execution_count": 136,
   "metadata": {
    "collapsed": false
   },
   "outputs": [
    {
     "name": "stdout",
     "output_type": "stream",
     "text": [
      "https://psa.opendatasoft.com/api/records/1.0/search/?dataset=chrono_flux_vehicule_dans_usine&rows=1000%s&sort=column_7&facet=journee_prod&facet=porte&facet=column_7&facet=column_2&facet=column_5&q=column_2%3D5424593+or+5424379+or+5424431+or+5424449+or+5424093+or+5423902+or+5440389+or+5432570+or+5417593\n",
      "\n",
      "\n",
      "\n",
      "<!DOCTYPE html>\n",
      "<html>\n",
      "<head>\n",
      "    <title>OpenDataSoft &mdash; Erreur interne</title>\n",
      "    <link rel=\"stylesheet\" type=\"text/css\" href=\"/static/vendor/font-awesome-4.7.0/css/font-awesome.min.css\">\n",
      "    <meta charset=\"UTF-8\"/>\n",
      "    <meta name=\"viewport\" content=\"width=device-width, initial-scale=1.0\" />\n",
      "    <link rel=\"stylesheet\" href=\"/static/compressed/css/7df55e53cb6c.css\" type=\"text/css\" />\n",
      "</head>\n",
      "<body class=\"ods-error-page\">\n",
      "    <div class=\"ods-error-page__page-container\">\n",
      "        <div class=\"ods-error-page__container\">\n",
      "            <img class=\"ods-error-page__logo\" src=\"/static/ods/img/ods-logo-large.png\">\n",
      "            <h2 class=\"ods-error-page__title\">Le serveur a rencontré une erreur</h2>\n",
      "            <h2 class=\"ods-error-page__title\">Code d'erreur : 500</h2>\n",
      "             <div class=\"ods-error-page__message\">\n",
      "                 <p>Nous sommes désolés pour la gêne occasionnée.</p>\n",
      "                 <br>\n",
      "                 <p>Ceci est une erreur serveur, il n'y a pas de problème avec votre ordinateur ou votre connexion à internet.</p>\n",
      "                 <p>Il n'y a pas grand chose à faire de votre côté. Les administrateurs ont été prévenu.</p>\n",
      "                 <p>Nous travaillons à régler le problème, vous pouvez réessayer plus tard.</p>\n",
      "                 <br>\n",
      "                 <p>Ou vous pouvez retourner à la page d'accueil</p>\n",
      "            </div>\n",
      "            <div class=\"ods-error-page__home-link\">\n",
      "                <a href=\"/\"\n",
      "                   class=\"ods-error-page__home-link-item\">\n",
      "                    <i class=\"fa fa-home\" aria-hidden=\"true\"></i>\n",
      "                    Allez à la page d'accueil\n",
      "                </a>\n",
      "            </div>\n",
      "        </div>\n",
      "    </div>\n",
      "\n",
      "</body>\n",
      "</html>\n",
      "\n"
     ]
    }
   ],
   "source": [
    "\n",
    "nb_done = 0\n",
    "id_vec = []\n",
    "for index, line in df.iterrows():\n",
    "    nb_done += 1\n",
    "    if nb_done % 10 == 0:\n",
    "        break\n",
    "    id_vec.append(line[\"ID_VEH\"])\n",
    "\n",
    "url=\"https://psa.opendatasoft.com/api/records/1.0/search/?dataset=chrono_flux_vehicule_dans_usine&rows=1000%s&sort=column_7&facet=journee_prod&facet=porte&facet=column_7&facet=column_2&facet=column_5\"\n",
    "\n",
    "url += \"&q=column_2%%3D%s\" % (\"+or+\".join([str(ident) for ident in id_vec]))\n",
    "print url\n",
    "\n",
    "rep = requests.get(url, auth=HTTPBasicAuth(user, password))\n",
    "print rep.content"
   ]
  },
  {
   "cell_type": "code",
   "execution_count": 145,
   "metadata": {
    "collapsed": false
   },
   "outputs": [
    {
     "name": "stdout",
     "output_type": "stream",
     "text": [
      "1.97086501122\n",
      "<Response [200]>\n"
     ]
    }
   ],
   "source": [
    "import time\n",
    "t=time.time()\n",
    "url = \"https://psa.opendatasoft.com/api/records/1.0/search/?dataset=chrono_flux_vehicule_dans_usine&q=column_2%3D5424593+or+5424379+or+5424431+or+5424449+or+5424093&facet=journee_prod&facet=porte&facet=column_7&facet=column_2\"\n",
    "rep = requests.get(url, auth=HTTPBasicAuth(user, password))\n",
    "print time.time() - t\n",
    "print rep"
   ]
  },
  {
   "cell_type": "code",
   "execution_count": 138,
   "metadata": {
    "collapsed": false
   },
   "outputs": [
    {
     "name": "stdout",
     "output_type": "stream",
     "text": [
      "{\"nhits\": 730, \"parameters\": {\"dataset\": [\"chrono_flux_vehicule_dans_usine\"], \"timezone\": \"UTC\", \"q\": \"column_2=5424593 or 5424379 or 5424431 or 5424449 or 5424093 or 5423902 or 5440389 or 5432570 or 5417593\", \"rows\": 10, \"format\": \"json\", \"facet\": [\"journee_prod\", \"porte\", \"column_7\", \"column_2\"]}, \"records\": [{\"datasetid\": \"chrono_flux_vehicule_dans_usine\", \"recordid\": \"317471bd36dce12abb6998fd6974f1d1441d54e6\", \"fields\": {\"column_7\": \"2016-06-30T17:08:46+00:00\", \"journee_prod\": \"2016-06-30\", \"column_5\": \"Sortie ligne plateforme A5/A9\", \"column_2\": 5417593, \"column_1\": \"PY\", \"porte\": \"TCPA01\", \"column_22\": \"2016-07-20T18:15:41+00:00\"}, \"record_timestamp\": \"2017-01-18T15:22:53+00:00\"}, {\"datasetid\": \"chrono_flux_vehicule_dans_usine\", \"recordid\": \"83e85bd0c44f98dd1d513f92f949669049bc0f73\", \"fields\": {\"column_7\": \"2016-06-30T21:31:38+00:00\", \"journee_prod\": \"2016-06-30\", \"column_5\": \"Sortie ligne appariement cdc A9\", \"column_2\": 5417593, \"column_1\": \"PY\", \"porte\": \"APC201\", \"column_22\": \"2016-07-20T18:15:41+00:00\"}, \"record_timestamp\": \"2017-01-18T15:22:53+00:00\"}, {\"datasetid\": \"chrono_flux_vehicule_dans_usine\", \"recordid\": \"667cd1601a689b118c8c6d83e65476a59eef79e3\", \"fields\": {\"column_7\": \"2016-01-07T03:20:15+00:00\", \"column_6\": \"SARM\", \"column_5\": \"Sortie Armature 02\", \"journee_prod\": \"2016-06-30\", \"column_2\": 5417593, \"column_1\": \"PY\", \"porte\": \"SARM02\", \"column_22\": \"2016-07-20T18:15:41+00:00\"}, \"record_timestamp\": \"2017-01-18T15:22:53+00:00\"}, {\"datasetid\": \"chrono_flux_vehicule_dans_usine\", \"recordid\": \"5670829f93782b9c85e19808fb295a4a1f167057\", \"fields\": {\"column_7\": \"2016-01-07T11:43:09+00:00\", \"column_6\": \"EFEA\", \"column_5\": \"Entrie Ferrage 02\", \"journee_prod\": \"2016-01-07\", \"column_2\": 5424379, \"column_1\": \"PY\", \"porte\": \"EFER02\", \"column_22\": \"2016-06-07T23:40:06+00:00\"}, \"record_timestamp\": \"2017-01-18T15:22:53+00:00\"}, {\"datasetid\": \"chrono_flux_vehicule_dans_usine\", \"recordid\": \"c2594364bc4ffdbc4632bc18fb5eae8a580015c9\", \"fields\": {\"column_7\": \"2016-04-07T06:17:51+00:00\", \"column_6\": \"DEDI00\", \"column_5\": \"Entree ligne etancheite\", \"journee_prod\": \"2016-04-07\", \"column_2\": 5417593, \"column_1\": \"PY\", \"porte\": \"DEDI01\", \"column_22\": \"2016-07-20T18:15:41+00:00\"}, \"record_timestamp\": \"2017-01-18T15:22:53+00:00\"}, {\"datasetid\": \"chrono_flux_vehicule_dans_usine\", \"recordid\": \"14ee3cb2a7e2df61c0c0034cb71e0cd8de034b69\", \"fields\": {\"column_7\": \"2016-04-07T22:38:29+00:00\", \"column_6\": \"EMON\", \"column_5\": \"Entrie Montage L1\", \"journee_prod\": \"2016-04-07\", \"column_2\": 5417593, \"column_1\": \"PY\", \"porte\": \"EMON01\", \"column_22\": \"2016-07-20T18:15:41+00:00\"}, \"record_timestamp\": \"2017-01-18T15:22:53+00:00\"}, {\"datasetid\": \"chrono_flux_vehicule_dans_usine\", \"recordid\": \"ab7a34e90e4c7d350f9fd00a137ad8b793dc3527\", \"fields\": {\"column_7\": \"2016-04-07T08:50:41+00:00\", \"column_6\": \"EMLA\", \"journee_prod\": \"2016-04-07\", \"column_2\": 5417593, \"column_1\": \"PY\", \"porte\": \"ESAL01\", \"column_22\": \"2016-07-20T18:15:41+00:00\"}, \"record_timestamp\": \"2017-01-18T15:22:53+00:00\"}, {\"datasetid\": \"chrono_flux_vehicule_dans_usine\", \"recordid\": \"98bb8699fc79c003037d5a6d1c9274819c7625d8\", \"fields\": {\"column_7\": \"2016-04-07T12:02:45+00:00\", \"journee_prod\": \"2016-04-07\", \"column_5\": \"Sortie ret. laques vers SPEI\", \"column_2\": 5417593, \"column_1\": \"PY\", \"porte\": \"FIRL01\", \"column_22\": \"2016-07-20T18:15:41+00:00\"}, \"record_timestamp\": \"2017-01-18T15:22:53+00:00\"}, {\"datasetid\": \"chrono_flux_vehicule_dans_usine\", \"recordid\": \"0a00ad2b0b4945cf3b778bfc7f7431fa26cab99e\", \"fields\": {\"column_7\": \"2016-04-07T06:04:29+00:00\", \"journee_prod\": \"2016-04-07\", \"column_5\": \"Sertis sur Caisse\", \"column_2\": 5417593, \"column_1\": \"PY\", \"porte\": \"SERT01\", \"column_22\": \"2016-07-20T18:15:41+00:00\"}, \"record_timestamp\": \"2017-01-18T15:22:53+00:00\"}, {\"datasetid\": \"chrono_flux_vehicule_dans_usine\", \"recordid\": \"e665ccd67ec57df7edaba6b015276508d34ec01e\", \"fields\": {\"column_7\": \"2016-05-07T05:18:35+00:00\", \"column_6\": \"SMON\", \"column_5\": \"Sortie Montage L1\", \"journee_prod\": \"2016-04-07\", \"column_2\": 5417593, \"column_1\": \"PY\", \"porte\": \"SOMV01\", \"column_22\": \"2016-07-20T18:15:41+00:00\"}, \"record_timestamp\": \"2017-01-18T15:22:53+00:00\"}], \"facet_groups\": [{\"name\": \"journee_prod\", \"facets\": [{\"name\": \"2016\", \"path\": \"2016\", \"count\": 730, \"state\": \"displayed\"}]}, {\"name\": \"porte\", \"facets\": [{\"name\": \"SCCC01\", \"path\": \"SCCC01\", \"count\": 10, \"state\": \"displayed\"}, {\"name\": \"BR1101\", \"path\": \"BR1101\", \"count\": 9, \"state\": \"displayed\"}, {\"name\": \"BR3401\", \"path\": \"BR3401\", \"count\": 9, \"state\": \"displayed\"}, {\"name\": \"BR3501\", \"path\": \"BR3501\", \"count\": 9, \"state\": \"displayed\"}, {\"name\": \"CCOM06\", \"path\": \"CCOM06\", \"count\": 9, \"state\": \"displayed\"}, {\"name\": \"CDC901\", \"path\": \"CDC901\", \"count\": 9, \"state\": \"displayed\"}, {\"name\": \"DEDI01\", \"path\": \"DEDI01\", \"count\": 9, \"state\": \"displayed\"}, {\"name\": \"DETA01\", \"path\": \"DETA01\", \"count\": 9, \"state\": \"displayed\"}, {\"name\": \"ECHC01\", \"path\": \"ECHC01\", \"count\": 9, \"state\": \"displayed\"}, {\"name\": \"ECOF02\", \"path\": \"ECOF02\", \"count\": 9, \"state\": \"displayed\"}, {\"name\": \"ECPC01\", \"path\": \"ECPC01\", \"count\": 9, \"state\": \"displayed\"}, {\"name\": \"EDAP01\", \"path\": \"EDAP01\", \"count\": 9, \"state\": \"displayed\"}, {\"name\": \"EDLA01\", \"path\": \"EDLA01\", \"count\": 9, \"state\": \"displayed\"}, {\"name\": \"EFER02\", \"path\": \"EFER02\", \"count\": 9, \"state\": \"displayed\"}, {\"name\": \"EFON01\", \"path\": \"EFON01\", \"count\": 9, \"state\": \"displayed\"}, {\"name\": \"EFTO01\", \"path\": \"EFTO01\", \"count\": 9, \"state\": \"displayed\"}, {\"name\": \"EMDA01\", \"path\": \"EMDA01\", \"count\": 9, \"state\": \"displayed\"}, {\"name\": \"EMON01\", \"path\": \"EMON01\", \"count\": 9, \"state\": \"displayed\"}, {\"name\": \"ENAR01\", \"path\": \"ENAR01\", \"count\": 9, \"state\": \"displayed\"}, {\"name\": \"ENGA02\", \"path\": \"ENGA02\", \"count\": 9, \"state\": \"displayed\"}, {\"name\": \"ENHC01\", \"path\": \"ENHC01\", \"count\": 9, \"state\": \"displayed\"}, {\"name\": \"ENMV01\", \"path\": \"ENMV01\", \"count\": 9, \"state\": \"displayed\"}, {\"name\": \"ENRA01\", \"path\": \"ENRA01\", \"count\": 9, \"state\": \"displayed\"}, {\"name\": \"EPOM01\", \"path\": \"EPOM01\", \"count\": 9, \"state\": \"displayed\"}, {\"name\": \"ESAL01\", \"path\": \"ESAL01\", \"count\": 9, \"state\": \"displayed\"}, {\"name\": \"EZER01\", \"path\": \"EZER01\", \"count\": 9, \"state\": \"displayed\"}, {\"name\": \"FIRA01\", \"path\": \"FIRA01\", \"count\": 9, \"state\": \"displayed\"}, {\"name\": \"FIRL01\", \"path\": \"FIRL01\", \"count\": 9, \"state\": \"displayed\"}, {\"name\": \"GAV101\", \"path\": \"GAV101\", \"count\": 9, \"state\": \"displayed\"}, {\"name\": \"GAV201\", \"path\": \"GAV201\", \"count\": 9, \"state\": \"displayed\"}, {\"name\": \"MV1101\", \"path\": \"MV1101\", \"count\": 9, \"state\": \"displayed\"}, {\"name\": \"MV2201\", \"path\": \"MV2201\", \"count\": 9, \"state\": \"displayed\"}, {\"name\": \"MV2401\", \"path\": \"MV2401\", \"count\": 9, \"state\": \"displayed\"}, {\"name\": \"MV3501\", \"path\": \"MV3501\", \"count\": 9, \"state\": \"displayed\"}, {\"name\": \"MVCR01\", \"path\": \"MVCR01\", \"count\": 9, \"state\": \"displayed\"}, {\"name\": \"POM101\", \"path\": \"POM101\", \"count\": 9, \"state\": \"displayed\"}, {\"name\": \"SARM02\", \"path\": \"SARM02\", \"count\": 9, \"state\": \"displayed\"}, {\"name\": \"SCOF01\", \"path\": \"SCOF01\", \"count\": 9, \"state\": \"displayed\"}, {\"name\": \"SERT01\", \"path\": \"SERT01\", \"count\": 9, \"state\": \"displayed\"}, {\"name\": \"SETA01\", \"path\": \"SETA01\", \"count\": 9, \"state\": \"displayed\"}, {\"name\": \"SFER01\", \"path\": \"SFER01\", \"count\": 9, \"state\": \"displayed\"}, {\"name\": \"SFON01\", \"path\": \"SFON01\", \"count\": 9, \"state\": \"displayed\"}, {\"name\": \"SLAS03\", \"path\": \"SLAS03\", \"count\": 9, \"state\": \"displayed\"}, {\"name\": \"SMDA01\", \"path\": \"SMDA01\", \"count\": 9, \"state\": \"displayed\"}, {\"name\": \"SMEF02\", \"path\": \"SMEF02\", \"count\": 9, \"state\": \"displayed\"}, {\"name\": \"SMEL01\", \"path\": \"SMEL01\", \"count\": 9, \"state\": \"displayed\"}, {\"name\": \"SOAP01\", \"path\": \"SOAP01\", \"count\": 9, \"state\": \"displayed\"}, {\"name\": \"SOAR01\", \"path\": \"SOAR01\", \"count\": 9, \"state\": \"displayed\"}, {\"name\": \"SOHC01\", \"path\": \"SOHC01\", \"count\": 9, \"state\": \"displayed\"}, {\"name\": \"SOHM01\", \"path\": \"SOHM01\", \"count\": 9, \"state\": \"displayed\"}, {\"name\": \"SOMV01\", \"path\": \"SOMV01\", \"count\": 9, \"state\": \"displayed\"}, {\"name\": \"SOPA01\", \"path\": \"SOPA01\", \"count\": 9, \"state\": \"displayed\"}, {\"name\": \"SOPC03\", \"path\": \"SOPC03\", \"count\": 9, \"state\": \"displayed\"}, {\"name\": \"TCPA01\", \"path\": \"TCPA01\", \"count\": 9, \"state\": \"displayed\"}, {\"name\": \"TCSO01\", \"path\": \"TCSO01\", \"count\": 9, \"state\": \"displayed\"}, {\"name\": \"TDNO01\", \"path\": \"TDNO01\", \"count\": 9, \"state\": \"displayed\"}, {\"name\": \"TDSP01\", \"path\": \"TDSP01\", \"count\": 9, \"state\": \"displayed\"}, {\"name\": \"BR2201\", \"path\": \"BR2201\", \"count\": 8, \"state\": \"displayed\"}, {\"name\": \"ECLA02\", \"path\": \"ECLA02\", \"count\": 8, \"state\": \"displayed\"}, {\"name\": \"MV2301\", \"path\": \"MV2301\", \"count\": 8, \"state\": \"displayed\"}, {\"name\": \"SCLA02\", \"path\": \"SCLA02\", \"count\": 8, \"state\": \"displayed\"}, {\"name\": \"ENPA01\", \"path\": \"ENPA01\", \"count\": 7, \"state\": \"displayed\"}, {\"name\": \"ESEL01\", \"path\": \"ESEL01\", \"count\": 7, \"state\": \"displayed\"}, {\"name\": \"ETAN02\", \"path\": \"ETAN02\", \"count\": 7, \"state\": \"displayed\"}, {\"name\": \"RACC02\", \"path\": \"RACC02\", \"count\": 7, \"state\": \"displayed\"}, {\"name\": \"APC201\", \"path\": \"APC201\", \"count\": 6, \"state\": \"displayed\"}, {\"name\": \"ARMA03\", \"path\": \"ARMA03\", \"count\": 6, \"state\": \"displayed\"}, {\"name\": \"BR2301\", \"path\": \"BR2301\", \"count\": 6, \"state\": \"displayed\"}, {\"name\": \"CLAQ02\", \"path\": \"CLAQ02\", \"count\": 6, \"state\": \"displayed\"}, {\"name\": \"ECAR02\", \"path\": \"ECAR02\", \"count\": 6, \"state\": \"displayed\"}, {\"name\": \"ECOM07\", \"path\": \"ECOM07\", \"count\": 6, \"state\": \"displayed\"}, {\"name\": \"SACC03\", \"path\": \"SACC03\", \"count\": 6, \"state\": \"displayed\"}, {\"name\": \"SORA01\", \"path\": \"SORA01\", \"count\": 6, \"state\": \"displayed\"}, {\"name\": \"TCC201\", \"path\": \"TCC201\", \"count\": 6, \"state\": \"displayed\"}, {\"name\": \"TCS201\", \"path\": \"TCS201\", \"count\": 6, \"state\": \"displayed\"}, {\"name\": \"EVCR01\", \"path\": \"EVCR01\", \"count\": 5, \"state\": \"displayed\"}, {\"name\": \"PARA04\", \"path\": \"PARA04\", \"count\": 5, \"state\": \"displayed\"}, {\"name\": \"SCAF01\", \"path\": \"SCAF01\", \"count\": 5, \"state\": \"displayed\"}, {\"name\": \"SMEF01\", \"path\": \"SMEF01\", \"count\": 5, \"state\": \"displayed\"}, {\"name\": \"EDEB01\", \"path\": \"EDEB01\", \"count\": 4, \"state\": \"displayed\"}, {\"name\": \"FRB000\", \"path\": \"FRB000\", \"count\": 4, \"state\": \"displayed\"}, {\"name\": \"SCAF02\", \"path\": \"SCAF02\", \"count\": 4, \"state\": \"displayed\"}, {\"name\": \"APC101\", \"path\": \"APC101\", \"count\": 3, \"state\": \"displayed\"}, {\"name\": \"ARMA02\", \"path\": \"ARMA02\", \"count\": 3, \"state\": \"displayed\"}, {\"name\": \"CLAQ03\", \"path\": \"CLAQ03\", \"count\": 3, \"state\": \"displayed\"}, {\"name\": \"EASP01\", \"path\": \"EASP01\", \"count\": 3, \"state\": \"displayed\"}, {\"name\": \"ECAR03\", \"path\": \"ECAR03\", \"count\": 3, \"state\": \"displayed\"}, {\"name\": \"ECOM06\", \"path\": \"ECOM06\", \"count\": 3, \"state\": \"displayed\"}, {\"name\": \"POLY01\", \"path\": \"POLY01\", \"count\": 3, \"state\": \"displayed\"}, {\"name\": \"POLY03\", \"path\": \"POLY03\", \"count\": 3, \"state\": \"displayed\"}, {\"name\": \"POLY04\", \"path\": \"POLY04\", \"count\": 3, \"state\": \"displayed\"}, {\"name\": \"RACC03\", \"path\": \"RACC03\", \"count\": 3, \"state\": \"displayed\"}, {\"name\": \"SACC02\", \"path\": \"SACC02\", \"count\": 3, \"state\": \"displayed\"}, {\"name\": \"SORA02\", \"path\": \"SORA02\", \"count\": 3, \"state\": \"displayed\"}, {\"name\": \"TCCO01\", \"path\": \"TCCO01\", \"count\": 3, \"state\": \"displayed\"}, {\"name\": \"TCR101\", \"path\": \"TCR101\", \"count\": 3, \"state\": \"displayed\"}, {\"name\": \"TCS801\", \"path\": \"TCS801\", \"count\": 3, \"state\": \"displayed\"}, {\"name\": \"EFRQ01\", \"path\": \"EFRQ01\", \"count\": 2, \"state\": \"displayed\"}, {\"name\": \"ENT601\", \"path\": \"ENT601\", \"count\": 2, \"state\": \"displayed\"}, {\"name\": \"PARA01\", \"path\": \"PARA01\", \"count\": 2, \"state\": \"displayed\"}]}, {\"name\": \"column_7\", \"facets\": [{\"name\": \"2016\", \"path\": \"2016\", \"count\": 730, \"state\": \"displayed\"}]}, {\"name\": \"column_2\", \"facets\": [{\"name\": \"5440389\", \"path\": \"5440389\", \"count\": 92, \"state\": \"displayed\"}, {\"name\": \"5417593\", \"path\": \"5417593\", \"count\": 85, \"state\": \"displayed\"}, {\"name\": \"5424593\", \"path\": \"5424593\", \"count\": 84, \"state\": \"displayed\"}, {\"name\": \"5424379\", \"path\": \"5424379\", \"count\": 80, \"state\": \"displayed\"}, {\"name\": \"5424431\", \"path\": \"5424431\", \"count\": 80, \"state\": \"displayed\"}, {\"name\": \"5424449\", \"path\": \"5424449\", \"count\": 79, \"state\": \"displayed\"}, {\"name\": \"5423902\", \"path\": \"5423902\", \"count\": 78, \"state\": \"displayed\"}, {\"name\": \"5432570\", \"path\": \"5432570\", \"count\": 77, \"state\": \"displayed\"}, {\"name\": \"5424093\", \"path\": \"5424093\", \"count\": 75, \"state\": \"displayed\"}]}]}\n"
     ]
    }
   ],
   "source": [
    "print rep.content"
   ]
  },
  {
   "cell_type": "code",
   "execution_count": null,
   "metadata": {
    "collapsed": false
   },
   "outputs": [],
   "source": [
    "bulk_size = 10\n",
    "max_iter = len(df) / bulk_size\n",
    "base_url = \"https://psa.opendatasoft.com/api/records/1.0/search/?dataset=chrono_flux_vehicule_dans_usine&rows=10000&q=column_2%3D\"\n",
    "end_url = \"&facet=journee_prod&facet=porte&facet=column_7&facet=column_2\"\n",
    "\n",
    "for i in range(max_iter):\n",
    "    t = time.time()\n",
    "    small_df = df[i*bulk_size :(i + 1) * bulk_size]\n",
    "    \n",
    "    url = base_url + \"+or+\".join([str(id_vec) for id_vec in small_df[\"ID_VEH\"]]) + end_url\n",
    "    rep = requests.get(url, auth=HTTPBasicAuth(user, password))\n",
    "    print rep\n",
    "    print \"request took %s\" % (time.time() - t)"
   ]
  },
  {
   "cell_type": "code",
   "execution_count": null,
   "metadata": {
    "collapsed": true
   },
   "outputs": [],
   "source": []
  }
 ],
 "metadata": {
  "kernelspec": {
   "display_name": "Python 2",
   "language": "python",
   "name": "python2"
  },
  "language_info": {
   "codemirror_mode": {
    "name": "ipython",
    "version": 2
   },
   "file_extension": ".py",
   "mimetype": "text/x-python",
   "name": "python",
   "nbconvert_exporter": "python",
   "pygments_lexer": "ipython2",
   "version": "2.7.13"
  }
 },
 "nbformat": 4,
 "nbformat_minor": 2
}
